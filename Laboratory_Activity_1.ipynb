{
  "nbformat": 4,
  "nbformat_minor": 0,
  "metadata": {
    "colab": {
      "name": "Laboratory_Activity_1",
      "provenance": [],
      "authorship_tag": "ABX9TyOIpaxM9hPndWfdUdRW6JVQ",
      "include_colab_link": true
    },
    "kernelspec": {
      "name": "python3",
      "display_name": "Python 3"
    },
    "language_info": {
      "name": "python"
    }
  },
  "cells": [
    {
      "cell_type": "markdown",
      "metadata": {
        "id": "view-in-github",
        "colab_type": "text"
      },
      "source": [
        "<a href=\"https://colab.research.google.com/github/RYCMDNT/CPEN-21A-CPE-1-2/blob/main/Laboratory_Activity_1.ipynb\" target=\"_parent\"><img src=\"https://colab.research.google.com/assets/colab-badge.svg\" alt=\"Open In Colab\"/></a>"
      ]
    },
    {
      "cell_type": "code",
      "metadata": {
        "colab": {
          "base_uri": "https://localhost:8080/"
        },
        "id": "N8kX8WDd2m77",
        "outputId": "4efae6f3-5d75-4cd9-d798-494fe1b99d10"
      },
      "source": [
        "x = \"Welcome to Python Programming\"\n",
        "print(x)"
      ],
      "execution_count": 1,
      "outputs": [
        {
          "output_type": "stream",
          "name": "stdout",
          "text": [
            "Welcome to Python Programming\n"
          ]
        }
      ]
    },
    {
      "cell_type": "code",
      "metadata": {
        "colab": {
          "base_uri": "https://localhost:8080/"
        },
        "id": "Yrij_D0W26Ue",
        "outputId": "47fcd97e-0647-4ef2-858a-3aa2b2a6815e"
      },
      "source": [
        "x = input(\"Name: \")\n",
        "y = input(\"Address: \")\n",
        "z = input(\"Age: \")\n",
        "print(\"My name is \" + x +\n",
        "      \", I live in \" + y +\n",
        "      \". I am \" + z +  \" Years old.\")"
      ],
      "execution_count": 3,
      "outputs": [
        {
          "output_type": "stream",
          "name": "stdout",
          "text": [
            "Name: Yuan Comandante\n",
            "Address: Buenavista 1 Gen. Trias City, Cavite\n",
            "Age: 18\n",
            "My name is Yuan Comandante, I live in Buenavista 1 Gen. Trias City, Cavite. I am 18 Years old.\n"
          ]
        }
      ]
    }
  ]
}