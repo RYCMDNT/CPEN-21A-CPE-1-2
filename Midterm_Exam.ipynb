{
  "nbformat": 4,
  "nbformat_minor": 0,
  "metadata": {
    "colab": {
      "name": "Midterm Exam.ipynb",
      "provenance": [],
      "authorship_tag": "ABX9TyNXX2Tl97kX2JNnuw6kcNOp",
      "include_colab_link": true
    },
    "kernelspec": {
      "name": "python3",
      "display_name": "Python 3"
    },
    "language_info": {
      "name": "python"
    }
  },
  "cells": [
    {
      "cell_type": "markdown",
      "metadata": {
        "id": "view-in-github",
        "colab_type": "text"
      },
      "source": [
        "<a href=\"https://colab.research.google.com/github/RYCMDNT/CPEN-21A-CPE-1-2/blob/main/Midterm_Exam.ipynb\" target=\"_parent\"><img src=\"https://colab.research.google.com/assets/colab-badge.svg\" alt=\"Open In Colab\"/></a>"
      ]
    },
    {
      "cell_type": "code",
      "metadata": {
        "colab": {
          "base_uri": "https://localhost:8080/"
        },
        "id": "ioFvmx9FBbpj",
        "outputId": "96a66c4a-1a47-41ec-ad91-71440978d7fe"
      },
      "source": [
        "#Problem Statement 1\n",
        "print(\"Rodolfo Yuan D. Comandante III\")\n",
        "print(\"202101504\")\n",
        "print(\"18 years old\")\n",
        "print(\"September 9, 2003\")\n",
        "print(\"11 Buenavista 1 Gen.Trias City, Cavite\")\n",
        "print(\"Bachelor of Science in Computer Engineering\")\n",
        "print(\"94\")"
      ],
      "execution_count": 1,
      "outputs": [
        {
          "output_type": "stream",
          "name": "stdout",
          "text": [
            "Rodolfo Yuan D. Comandante III\n",
            "202101504\n",
            "18 years old\n",
            "September 9, 2003\n",
            "11 Buenavista 1 Gen.Trias City, Cavite\n",
            "Bachelor of Science in Computer Engineering\n",
            "94\n"
          ]
        }
      ]
    },
    {
      "cell_type": "code",
      "metadata": {
        "colab": {
          "base_uri": "https://localhost:8080/"
        },
        "id": "SI3u29SHCSmc",
        "outputId": "627f9f52-6529-4f9f-ee50-0048eaa4d455"
      },
      "source": [
        "#Problem Statement 2\n",
        "n = 4\n",
        "answ = \"Y\"\n",
        "print((2<n)and(n<6))\n",
        "print((2<n)or(n==6))\n",
        "print(not(2<n)or(n==6))\n",
        "print(not(n<6))\n",
        "print((answ==\"Y\")or(answ==\"y\"))\n",
        "print((answ==\"Y\")and(answ==\"y\"))\n",
        "print(not(answ==\"y\"))\n",
        "print((2<n)and(n==5+1))or(answ==\"No\")\n",
        "print(((n==2)and(n==7))or(answ==\"Y\"))\n",
        "print((n==2)and((n==7)or(answ==\"Y\")))"
      ],
      "execution_count": 28,
      "outputs": [
        {
          "output_type": "stream",
          "name": "stdout",
          "text": [
            "True\n",
            "True\n",
            "False\n",
            "False\n",
            "True\n",
            "False\n",
            "True\n",
            "False\n",
            "True\n",
            "False\n"
          ]
        }
      ]
    },
    {
      "cell_type": "code",
      "metadata": {
        "colab": {
          "base_uri": "https://localhost:8080/"
        },
        "id": "MIiQTD-xFT60",
        "outputId": "ec9cd5cf-ce1a-4d92-80e3-d106bef11dbd"
      },
      "source": [
        "#Problem Statement 3\n",
        "x = 2\n",
        "y = -3\n",
        "w = 7\n",
        "z = -10\n",
        "print(x/y)\n",
        "print(w/y/x)\n",
        "print(z/y%x)\n",
        "print(x%-y*w)\n",
        "print(x%y)\n",
        "print(z%w-y/x*5+5)\n",
        "print(9-x%(2+y))\n",
        "print(z//w)\n",
        "print((2+y)**2)\n",
        "print(w/x*2)"
      ],
      "execution_count": 25,
      "outputs": [
        {
          "output_type": "stream",
          "name": "stdout",
          "text": [
            "-0.6666666666666666\n",
            "-1.1666666666666667\n",
            "1.3333333333333335\n",
            "14\n",
            "-1\n",
            "16.5\n",
            "9\n",
            "-2\n",
            "1\n",
            "7.0\n"
          ]
        }
      ]
    }
  ]
}