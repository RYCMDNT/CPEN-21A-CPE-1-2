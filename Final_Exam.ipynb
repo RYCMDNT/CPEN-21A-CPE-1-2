{
  "nbformat": 4,
  "nbformat_minor": 0,
  "metadata": {
    "colab": {
      "name": "Final Exam.ipynb",
      "provenance": [],
      "authorship_tag": "ABX9TyPxxXvtSDPD2jArlzcWcrWU",
      "include_colab_link": true
    },
    "kernelspec": {
      "name": "python3",
      "display_name": "Python 3"
    },
    "language_info": {
      "name": "python"
    }
  },
  "cells": [
    {
      "cell_type": "markdown",
      "metadata": {
        "id": "view-in-github",
        "colab_type": "text"
      },
      "source": [
        "<a href=\"https://colab.research.google.com/github/RYCMDNT/CPEN-21A-CPE-1-2/blob/main/Final_Exam.ipynb\" target=\"_parent\"><img src=\"https://colab.research.google.com/assets/colab-badge.svg\" alt=\"Open In Colab\"/></a>"
      ]
    },
    {
      "cell_type": "markdown",
      "source": [
        "## **Problem** **Statement** **1**"
      ],
      "metadata": {
        "id": "5LDSpjgv8lIs"
      }
    },
    {
      "cell_type": "code",
      "source": [
        "sum = 0\n",
        "\n",
        "print(\"Enter Number: \")\n",
        "for i in range (1,11):  \n",
        "  num = int(input(\"Number %d = \" %i))\n",
        "  sum= sum+num\n",
        "print(sum)"
      ],
      "metadata": {
        "colab": {
          "base_uri": "https://localhost:8080/"
        },
        "id": "w66Vm-86F29C",
        "outputId": "98bd2316-d11a-41fb-d85c-d0e70ad85be9"
      },
      "execution_count": 38,
      "outputs": [
        {
          "output_type": "stream",
          "name": "stdout",
          "text": [
            "Enter Number: \n",
            "Number 1 = 1\n",
            "Number 2 = 2\n",
            "Number 3 = 3\n",
            "Number 4 = 4\n",
            "Number 5 = 1\n",
            "Number 6 = 2\n",
            "Number 7 = 3\n",
            "Number 8 = 4\n",
            "Number 9 = 1\n",
            "Number 10 = 2\n",
            "23\n"
          ]
        }
      ]
    },
    {
      "cell_type": "markdown",
      "source": [
        "# **Problem** **Statement** **2**"
      ],
      "metadata": {
        "id": "NzVvDUmKOhVA"
      }
    },
    {
      "cell_type": "code",
      "source": [
        "num = []\n",
        "while len(num) is not 5:\n",
        "  x = int(input(\"Input Number: \"))\n",
        "  num.append(x)\n",
        "\n",
        "print(num)\n",
        "sum = num[0] + num[-1]\n",
        "print(sum)"
      ],
      "metadata": {
        "colab": {
          "base_uri": "https://localhost:8080/"
        },
        "id": "1Okgj2kMRfKB",
        "outputId": "c2c8bf00-133f-4405-9eef-dadadc59adb3"
      },
      "execution_count": 45,
      "outputs": [
        {
          "output_type": "stream",
          "name": "stdout",
          "text": [
            "Input Number: 2\n",
            "Input Number: 3\n",
            "Input Number: 4\n",
            "Input Number: 5\n",
            "Input Number: 6\n",
            "[2, 3, 4, 5, 6]\n",
            "8\n"
          ]
        }
      ]
    },
    {
      "cell_type": "markdown",
      "source": [
        "# **Problem** **Statement** **3**"
      ],
      "metadata": {
        "id": "bQvfFWxEKvV6"
      }
    },
    {
      "cell_type": "code",
      "source": [
        "avg = int(input(\"Please Input Average Grade : \"))\n",
        "\n",
        "if avg>=90:\n",
        "    print(\"Your Grade is A\")\n",
        "elif avg>=80 and avg<=89:\n",
        "    print(\"Your Grade is B\")\n",
        "elif avg>=70 and avg<=79:\n",
        "    print(\"Your Grade is C\")\n",
        "elif avg>=60 and avg<=69:\n",
        "    print(\"Your Grade is D\")\n",
        "else:\n",
        "    print(\"Your Grade is F\")\n"
      ],
      "metadata": {
        "colab": {
          "base_uri": "https://localhost:8080/"
        },
        "id": "axs7GksWK1PB",
        "outputId": "6ba41e1e-84af-4f60-fbba-500802692012"
      },
      "execution_count": 39,
      "outputs": [
        {
          "output_type": "stream",
          "name": "stdout",
          "text": [
            "Please Input Average Grade : 12\n",
            "Your Grade is F\n"
          ]
        }
      ]
    }
  ]
}