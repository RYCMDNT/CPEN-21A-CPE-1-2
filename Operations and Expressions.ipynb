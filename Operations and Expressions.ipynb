{
  "nbformat": 4,
  "nbformat_minor": 0,
  "metadata": {
    "colab": {
      "name": "Untitled2.ipynb",
      "provenance": [],
      "authorship_tag": "ABX9TyPkmYFPkNjfxzVh+HiIISul",
      "include_colab_link": true
    },
    "kernelspec": {
      "name": "python3",
      "display_name": "Python 3"
    },
    "language_info": {
      "name": "python"
    }
  },
  "cells": [
    {
      "cell_type": "markdown",
      "metadata": {
        "id": "view-in-github",
        "colab_type": "text"
      },
      "source": [
        "<a href=\"https://colab.research.google.com/github/RYCMDNT/CPEN-21A-CPE-1-2/blob/main/Operations%20and%20Expressions.ipynb\" target=\"_parent\"><img src=\"https://colab.research.google.com/assets/colab-badge.svg\" alt=\"Open In Colab\"/></a>"
      ]
    },
    {
      "cell_type": "code",
      "metadata": {
        "colab": {
          "base_uri": "https://localhost:8080/"
        },
        "id": "Lr6yOIJfiHWf",
        "outputId": "c208df7d-45c6-4f50-bd02-f69da2c7e184"
      },
      "source": [
        "#booleans represents one of two values: True or False\n",
        "print(20>9)\n",
        "print(20==20)\n",
        "print(2>10)"
      ],
      "execution_count": 2,
      "outputs": [
        {
          "output_type": "stream",
          "name": "stdout",
          "text": [
            "True\n",
            "True\n",
            "False\n"
          ]
        }
      ]
    },
    {
      "cell_type": "code",
      "metadata": {
        "colab": {
          "base_uri": "https://localhost:8080/"
        },
        "id": "OXCMPsnEiuoC",
        "outputId": "29d33ef5-e90a-44a2-dd13-ffeb888b84ed"
      },
      "source": [
        "a=5\n",
        "b=15\n",
        "\n",
        "print(a==b)\n",
        "print(a>b)\n",
        "print(a<b)"
      ],
      "execution_count": 3,
      "outputs": [
        {
          "output_type": "stream",
          "name": "stdout",
          "text": [
            "False\n",
            "False\n",
            "True\n"
          ]
        }
      ]
    },
    {
      "cell_type": "code",
      "metadata": {
        "colab": {
          "base_uri": "https://localhost:8080/"
        },
        "id": "vTK4mn0ZjS97",
        "outputId": "9f3bacd3-6425-49be-f1b6-d88be0805f0a"
      },
      "source": [
        "print(bool(\"Hello\"))\n",
        "print(bool(15))"
      ],
      "execution_count": 4,
      "outputs": [
        {
          "output_type": "stream",
          "name": "stdout",
          "text": [
            "True\n",
            "True\n"
          ]
        }
      ]
    },
    {
      "cell_type": "code",
      "metadata": {
        "colab": {
          "base_uri": "https://localhost:8080/"
        },
        "id": "kOJyqkiQjfwh",
        "outputId": "6c9a8032-316b-4a88-aab6-fa961e9c378d"
      },
      "source": [
        "print(bool(False))\n",
        "print(bool(\"\"))\n",
        "print(bool(0))\n",
        "print(bool(None))"
      ],
      "execution_count": 9,
      "outputs": [
        {
          "output_type": "stream",
          "name": "stdout",
          "text": [
            "False\n",
            "False\n",
            "False\n",
            "False\n"
          ]
        }
      ]
    },
    {
      "cell_type": "code",
      "metadata": {
        "colab": {
          "base_uri": "https://localhost:8080/"
        },
        "id": "fOviZTHqj_xh",
        "outputId": "1c6e417d-1a39-4799-bce8-4aeb652c77b7"
      },
      "source": [
        "def myFunction():return True\n",
        "print(myFunction())"
      ],
      "execution_count": 11,
      "outputs": [
        {
          "output_type": "stream",
          "name": "stdout",
          "text": [
            "True\n"
          ]
        }
      ]
    },
    {
      "cell_type": "code",
      "metadata": {
        "id": "mywy6MY4ks_i",
        "outputId": "dfab0585-6a6a-419d-a0ea-c5f07fbcaa57",
        "colab": {
          "base_uri": "https://localhost:8080/"
        }
      },
      "source": [
        "def myFunction():return True\n",
        "print(myFunction())\n",
        "\n",
        "if myFunction():\n",
        "  print(\"YES\")\n",
        "else:\n",
        "  print(\"NO\")"
      ],
      "execution_count": 12,
      "outputs": [
        {
          "output_type": "stream",
          "name": "stdout",
          "text": [
            "True\n",
            "YES\n"
          ]
        }
      ]
    },
    {
      "cell_type": "code",
      "metadata": {
        "id": "F6rMehjllO9R",
        "outputId": "fd9288fb-0e06-4cbd-9d4c-fa65799f9791",
        "colab": {
          "base_uri": "https://localhost:8080/"
        }
      },
      "source": [
        "print(10+5)\n",
        "print(10-5)\n",
        "print(10/5)\n",
        "print(10*5)"
      ],
      "execution_count": 13,
      "outputs": [
        {
          "output_type": "stream",
          "name": "stdout",
          "text": [
            "15\n",
            "5\n",
            "2.0\n",
            "50\n"
          ]
        }
      ]
    }
  ]
}