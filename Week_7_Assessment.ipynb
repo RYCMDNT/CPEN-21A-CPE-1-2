{
  "nbformat": 4,
  "nbformat_minor": 0,
  "metadata": {
    "colab": {
      "name": "Week 7 Assessment.ipynb",
      "provenance": [],
      "authorship_tag": "ABX9TyN9VXzvKu/R535/gJjL3xZp",
      "include_colab_link": true
    },
    "kernelspec": {
      "name": "python3",
      "display_name": "Python 3"
    },
    "language_info": {
      "name": "python"
    }
  },
  "cells": [
    {
      "cell_type": "markdown",
      "metadata": {
        "id": "view-in-github",
        "colab_type": "text"
      },
      "source": [
        "<a href=\"https://colab.research.google.com/github/RYCMDNT/CPEN-21A-CPE-1-2/blob/main/Week_7_Assessment.ipynb\" target=\"_parent\"><img src=\"https://colab.research.google.com/assets/colab-badge.svg\" alt=\"Open In Colab\"/></a>"
      ]
    },
    {
      "cell_type": "code",
      "metadata": {
        "colab": {
          "base_uri": "https://localhost:8080/"
        },
        "id": "g7dIt5YNFO26",
        "outputId": "a478dc02-d987-4604-e44f-443bf9b80131"
      },
      "source": [
        "if 6>3:\n",
        "  print(\"Six is greater than three\")"
      ],
      "execution_count": 6,
      "outputs": [
        {
          "output_type": "stream",
          "name": "stdout",
          "text": [
            "Six is greater than three\n"
          ]
        }
      ]
    },
    {
      "cell_type": "code",
      "metadata": {
        "colab": {
          "base_uri": "https://localhost:8080/"
        },
        "id": "VMhFjZ-YFZca",
        "outputId": "39a288bd-b1e2-4274-ea7e-524c1650e7c7"
      },
      "source": [
        "#This is a comment\n",
        "print(\"Hello, World\")"
      ],
      "execution_count": 4,
      "outputs": [
        {
          "output_type": "stream",
          "name": "stdout",
          "text": [
            "Hello, World\n"
          ]
        }
      ]
    },
    {
      "cell_type": "code",
      "metadata": {
        "colab": {
          "base_uri": "https://localhost:8080/"
        },
        "id": "DzzVYxGMFjA6",
        "outputId": "746fcf30-1a72-4357-d869-533e65bf91fb"
      },
      "source": [
        "myvar=\"yuan\"\n",
        "print(myvar)"
      ],
      "execution_count": 14,
      "outputs": [
        {
          "output_type": "stream",
          "name": "stdout",
          "text": [
            "yuan\n"
          ]
        }
      ]
    },
    {
      "cell_type": "code",
      "metadata": {
        "colab": {
          "base_uri": "https://localhost:8080/"
        },
        "id": "Rp6bXsN2F_2L",
        "outputId": "063a65e9-57a0-4ecf-b025-257ef39e3753"
      },
      "source": [
        "x = 1\n",
        "print(x)"
      ],
      "execution_count": 8,
      "outputs": [
        {
          "output_type": "stream",
          "name": "stdout",
          "text": [
            "1\n"
          ]
        }
      ]
    },
    {
      "cell_type": "code",
      "metadata": {
        "colab": {
          "base_uri": "https://localhost:8080/"
        },
        "id": "BsjOdVX6GLxK",
        "outputId": "0b9944a4-6812-4633-fa4c-b590a6111d9e"
      },
      "source": [
        "x, y = 0, 2\n",
        "print(x)\n",
        "print(y)"
      ],
      "execution_count": 9,
      "outputs": [
        {
          "output_type": "stream",
          "name": "stdout",
          "text": [
            "0\n",
            "2\n"
          ]
        }
      ]
    },
    {
      "cell_type": "code",
      "metadata": {
        "colab": {
          "base_uri": "https://localhost:8080/"
        },
        "id": "vSMsLfEsGVZy",
        "outputId": "174dcbda-fe08-4bd6-e419-40aca447896d"
      },
      "source": [
        "x, y, z = 3, 4, 5\n",
        "print(x)\n",
        "print(y)\n",
        "print(z)"
      ],
      "execution_count": 10,
      "outputs": [
        {
          "output_type": "stream",
          "name": "stdout",
          "text": [
            "3\n",
            "4\n",
            "5\n"
          ]
        }
      ]
    },
    {
      "cell_type": "code",
      "metadata": {
        "colab": {
          "base_uri": "https://localhost:8080/"
        },
        "id": "hAY1thvhGiOr",
        "outputId": "fbf682bd-366b-4c4a-9e94-083203739dd6"
      },
      "source": [
        "q = \"yuan\" #this is a type of string\n",
        "e = int(4)\n",
        "print(e)"
      ],
      "execution_count": 11,
      "outputs": [
        {
          "output_type": "stream",
          "name": "stdout",
          "text": [
            "4\n"
          ]
        }
      ]
    },
    {
      "cell_type": "code",
      "metadata": {
        "colab": {
          "base_uri": "https://localhost:8080/"
        },
        "id": "EYvcK2M-GxDj",
        "outputId": "1aeebdb5-7ad8-4aff-f831-d749d80c91c4"
      },
      "source": [
        "e = float(4)\n",
        "print(e)"
      ],
      "execution_count": 12,
      "outputs": [
        {
          "output_type": "stream",
          "name": "stdout",
          "text": [
            "4.0\n"
          ]
        }
      ]
    },
    {
      "cell_type": "code",
      "metadata": {
        "colab": {
          "base_uri": "https://localhost:8080/"
        },
        "id": "VTPt_Wu8G3xL",
        "outputId": "b8349b90-f6df-4982-f3b0-4ceb0b8cd575"
      },
      "source": [
        "x = 5\n",
        "y = \"yuan\"\n",
        "print(type(x))\n",
        "print(type(y))"
      ],
      "execution_count": 13,
      "outputs": [
        {
          "output_type": "stream",
          "name": "stdout",
          "text": [
            "<class 'int'>\n",
            "<class 'str'>\n"
          ]
        }
      ]
    },
    {
      "cell_type": "code",
      "metadata": {
        "colab": {
          "base_uri": "https://localhost:8080/"
        },
        "id": "UjDwbqPgHNKc",
        "outputId": "b92e9658-8e0d-45f3-b890-b14a7561c804"
      },
      "source": [
        "y = 'yuan'\n",
        "Y = \"bots\"\n",
        "print(y)\n",
        "print(Y)\n",
        "#Y will not overwrite y"
      ],
      "execution_count": 17,
      "outputs": [
        {
          "output_type": "stream",
          "name": "stdout",
          "text": [
            "yuan\n",
            "bots\n"
          ]
        }
      ]
    },
    {
      "cell_type": "code",
      "metadata": {
        "colab": {
          "base_uri": "https://localhost:8080/"
        },
        "id": "cFgkpgAYHWHj",
        "outputId": "77d5ec02-b242-4546-b58f-417e7700e8d2"
      },
      "source": [
        "a,b,c = \"one\", \"two\", \"three\"\n",
        "print(a)\n",
        "print(b)\n",
        "print(c)"
      ],
      "execution_count": 18,
      "outputs": [
        {
          "output_type": "stream",
          "name": "stdout",
          "text": [
            "one\n",
            "two\n",
            "three\n"
          ]
        }
      ]
    },
    {
      "cell_type": "code",
      "metadata": {
        "colab": {
          "base_uri": "https://localhost:8080/"
        },
        "id": "raLIUuNpH8UL",
        "outputId": "fac1bd8c-0590-4516-8231-c5d2132c54bd"
      },
      "source": [
        "a=b=c=\"Tenz\"\n",
        "print(a)\n",
        "print(b)\n",
        "print(c)"
      ],
      "execution_count": 19,
      "outputs": [
        {
          "output_type": "stream",
          "name": "stdout",
          "text": [
            "Tenz\n",
            "Tenz\n",
            "Tenz\n"
          ]
        }
      ]
    },
    {
      "cell_type": "code",
      "metadata": {
        "colab": {
          "base_uri": "https://localhost:8080/"
        },
        "id": "h8AYG8EfIJea",
        "outputId": "aa451245-4f60-4e5a-90ea-6bae53aa8e81"
      },
      "source": [
        "y = \"hard\"\n",
        "print(\"College life is \" + y)"
      ],
      "execution_count": 20,
      "outputs": [
        {
          "output_type": "stream",
          "name": "stdout",
          "text": [
            "College life is hard\n"
          ]
        }
      ]
    },
    {
      "cell_type": "code",
      "metadata": {
        "colab": {
          "base_uri": "https://localhost:8080/"
        },
        "id": "YNS9KctcIWVd",
        "outputId": "ea557efc-eda9-4cc4-cbd8-09f2c2eb801a"
      },
      "source": [
        "w = \"python is \"\n",
        "t = \"enjoying.\"\n",
        "q = w+t\n",
        "print(q)"
      ],
      "execution_count": 23,
      "outputs": [
        {
          "output_type": "stream",
          "name": "stdout",
          "text": [
            "python is enjoying.\n"
          ]
        }
      ]
    }
  ]
}