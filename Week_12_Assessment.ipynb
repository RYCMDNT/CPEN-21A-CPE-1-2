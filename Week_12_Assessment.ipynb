{
  "nbformat": 4,
  "nbformat_minor": 0,
  "metadata": {
    "colab": {
      "name": "Week 12 Assessment.ipynb",
      "provenance": [],
      "authorship_tag": "ABX9TyPy8/7eHOrVNf6jlKqLe/w2",
      "include_colab_link": true
    },
    "kernelspec": {
      "name": "python3",
      "display_name": "Python 3"
    },
    "language_info": {
      "name": "python"
    }
  },
  "cells": [
    {
      "cell_type": "markdown",
      "metadata": {
        "id": "view-in-github",
        "colab_type": "text"
      },
      "source": [
        "<a href=\"https://colab.research.google.com/github/RYCMDNT/CPEN-21A-CPE-1-2/blob/main/Week_12_Assessment.ipynb\" target=\"_parent\"><img src=\"https://colab.research.google.com/assets/colab-badge.svg\" alt=\"Open In Colab\"/></a>"
      ]
    },
    {
      "cell_type": "code",
      "execution_count": 1,
      "metadata": {
        "colab": {
          "base_uri": "https://localhost:8080/"
        },
        "id": "h8Bxea_FIwRt",
        "outputId": "db96aa49-1fb1-4528-fdaf-27ad4cc4f4ce"
      },
      "outputs": [
        {
          "output_type": "stream",
          "name": "stdout",
          "text": [
            "value 0\n",
            "value 1\n",
            "value 2\n",
            "value 3\n",
            "value 4\n",
            "value 5\n",
            "value 6\n",
            "value 7\n",
            "value 8\n",
            "value 9\n",
            "value 10\n"
          ]
        }
      ],
      "source": [
        "#for loops\n",
        "value=[\"value 0\",\"value 1\",\"value 2\",\"value 3\",\"value 4\",\"value 5\",\"value 6\", \"value 7\", \"value 8\", \"value 9\", \"value 10\"]\n",
        "for x in value:\n",
        "  print(x)"
      ]
    },
    {
      "cell_type": "code",
      "source": [
        "#while loop\n",
        "i=0\n",
        "while i<11:\n",
        "  print(\"Value\",i)\n",
        "  i+=1"
      ],
      "metadata": {
        "colab": {
          "base_uri": "https://localhost:8080/"
        },
        "id": "3Xqk4QyBI2es",
        "outputId": "c81943cf-7eb8-4c24-c22f-36769c793eee"
      },
      "execution_count": 2,
      "outputs": [
        {
          "output_type": "stream",
          "name": "stdout",
          "text": [
            "Value 0\n",
            "Value 1\n",
            "Value 2\n",
            "Value 3\n",
            "Value 4\n",
            "Value 5\n",
            "Value 6\n",
            "Value 7\n",
            "Value 8\n",
            "Value 9\n",
            "Value 10\n"
          ]
        }
      ]
    }
  ]
}