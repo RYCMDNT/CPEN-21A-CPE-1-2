{
  "nbformat": 4,
  "nbformat_minor": 0,
  "metadata": {
    "colab": {
      "name": "Week 11 Assessment.ipynb",
      "provenance": [],
      "authorship_tag": "ABX9TyOlZcBMD+MzBovd6cROfyN+",
      "include_colab_link": true
    },
    "kernelspec": {
      "name": "python3",
      "display_name": "Python 3"
    },
    "language_info": {
      "name": "python"
    }
  },
  "cells": [
    {
      "cell_type": "markdown",
      "metadata": {
        "id": "view-in-github",
        "colab_type": "text"
      },
      "source": [
        "<a href=\"https://colab.research.google.com/github/RYCMDNT/CPEN-21A-CPE-1-2/blob/main/Week_11_Assessment.ipynb\" target=\"_parent\"><img src=\"https://colab.research.google.com/assets/colab-badge.svg\" alt=\"Open In Colab\"/></a>"
      ]
    },
    {
      "cell_type": "code",
      "metadata": {
        "colab": {
          "base_uri": "https://localhost:8080/"
        },
        "id": "dMlME39LHT5I",
        "outputId": "6aae15b8-e4d5-4d5b-c314-810bc74f304e"
      },
      "source": [
        "#if Statement\n",
        "a = 16\n",
        "b = 29\n",
        "if b>a:\n",
        "  print(\"b is greater than a\")"
      ],
      "execution_count": 1,
      "outputs": [
        {
          "output_type": "stream",
          "name": "stdout",
          "text": [
            "b is greater than a\n"
          ]
        }
      ]
    },
    {
      "cell_type": "code",
      "metadata": {
        "colab": {
          "base_uri": "https://localhost:8080/"
        },
        "id": "oKB9vudZHiFi",
        "outputId": "2f825675-24a0-40ea-d946-37ce5821d487"
      },
      "source": [
        "#elif Statement\n",
        "a = 30\n",
        "b = 29\n",
        "if b>a:\n",
        "  print(\"b is greater than a\")\n",
        "elif a>b:\n",
        "  print(\"a is greater than b\")"
      ],
      "execution_count": 3,
      "outputs": [
        {
          "output_type": "stream",
          "name": "stdout",
          "text": [
            "a is greater than b\n"
          ]
        }
      ]
    },
    {
      "cell_type": "code",
      "metadata": {
        "colab": {
          "base_uri": "https://localhost:8080/"
        },
        "id": "fbD35ZH8IsrY",
        "outputId": "e99df6ca-1129-4cc0-f27a-a12b8e52f967"
      },
      "source": [
        "#Else Statement\n",
        "a = 29\n",
        "b = 29\n",
        "if b>a:\n",
        "  print(\"b is greater than a\")\n",
        "elif a>b:\n",
        "  print(\"a is greater than b\")\n",
        "else:\n",
        "  print(\"a is equal to b\")"
      ],
      "execution_count": 4,
      "outputs": [
        {
          "output_type": "stream",
          "name": "stdout",
          "text": [
            "a is equal to b\n"
          ]
        }
      ]
    },
    {
      "cell_type": "code",
      "metadata": {
        "colab": {
          "base_uri": "https://localhost:8080/"
        },
        "id": "Tg243tG9JtLK",
        "outputId": "3e3f0df8-4e83-4908-eec8-ac143e1a62d4"
      },
      "source": [
        "#Short Hand if Statement\n",
        "a = 16\n",
        "b = 29\n",
        "if b>a: print(\"b is greater than a\")\n",
        "  "
      ],
      "execution_count": 5,
      "outputs": [
        {
          "output_type": "stream",
          "name": "stdout",
          "text": [
            "b is greater than a\n"
          ]
        }
      ]
    },
    {
      "cell_type": "code",
      "metadata": {
        "colab": {
          "base_uri": "https://localhost:8080/"
        },
        "id": "ZucHEvwVJ-AY",
        "outputId": "03bc2473-2a8e-4993-8316-ce4cae4c99af"
      },
      "source": [
        "#Short Hand else Statement\n",
        "a = 24\n",
        "b = 20\n",
        "print(\"a is greater than b\")if a>b else print(\"b is greater than a\")"
      ],
      "execution_count": 9,
      "outputs": [
        {
          "output_type": "stream",
          "name": "stdout",
          "text": [
            "a is greater than b\n"
          ]
        }
      ]
    },
    {
      "cell_type": "code",
      "metadata": {
        "colab": {
          "base_uri": "https://localhost:8080/"
        },
        "id": "VZP5JEPbRThF",
        "outputId": "bc60865b-c887-4d6a-d400-dc8212a7a5bb"
      },
      "source": [
        "#Both Conditions are true\n",
        "a=100\n",
        "b=500\n",
        "c=324\n",
        "if b>a and c>a:\n",
        "  print(\"Both Conditions are True\")"
      ],
      "execution_count": 35,
      "outputs": [
        {
          "output_type": "stream",
          "name": "stdout",
          "text": [
            "Both Conditions are True\n"
          ]
        }
      ]
    },
    {
      "cell_type": "code",
      "metadata": {
        "colab": {
          "base_uri": "https://localhost:8080/"
        },
        "id": "_5r1pdnJRp8k",
        "outputId": "5eff0f81-2745-4b84-9336-964295dd7edc"
      },
      "source": [
        "#At least one of conditions is true\n",
        "a=100\n",
        "b=500\n",
        "c=324\n",
        "if b<a or c>a:\n",
        "  print(\"At least one of conditions is true\")"
      ],
      "execution_count": 39,
      "outputs": [
        {
          "output_type": "stream",
          "name": "stdout",
          "text": [
            "one of the conditions is true\n"
          ]
        }
      ]
    },
    {
      "cell_type": "code",
      "metadata": {
        "colab": {
          "base_uri": "https://localhost:8080/"
        },
        "id": "3fBY2u2MSCMN",
        "outputId": "fb0e0416-46a3-435b-e7ca-523483f56d9b"
      },
      "source": [
        "#Nested if\n",
        "x=22\n",
        "if x>10:\n",
        "  print(\"above Ten\")\n",
        "  if x>20:\n",
        "    print(\"and also above twenty\")\n",
        "  else:\n",
        "    print(\"but not above twenty\")\n",
        "else:\n",
        "  print(\"not above ten\")"
      ],
      "execution_count": 48,
      "outputs": [
        {
          "output_type": "stream",
          "name": "stdout",
          "text": [
            "above Ten\n",
            "and also above twenty\n"
          ]
        }
      ]
    },
    {
      "cell_type": "code",
      "metadata": {
        "colab": {
          "base_uri": "https://localhost:8080/"
        },
        "id": "6vidGzhwK2Ax",
        "outputId": "4fc1c9f9-2e49-475f-e5af-53dec24d994a"
      },
      "source": [
        "#Example 1\n",
        "Age = int(input(\"Enter your Age: \"))\n",
        "if Age>=18:\n",
        "  print(\"you are qualified to vote\")\n",
        "else:\n",
        "  print(\"you are not qualified to vote\")"
      ],
      "execution_count": 17,
      "outputs": [
        {
          "output_type": "stream",
          "name": "stdout",
          "text": [
            "Enter your Age: 17\n",
            "you are not qualified to vote\n"
          ]
        }
      ]
    },
    {
      "cell_type": "code",
      "metadata": {
        "colab": {
          "base_uri": "https://localhost:8080/"
        },
        "id": "avykCcEiNkSA",
        "outputId": "90a1fe10-f36a-4782-d20c-66e40995ac61"
      },
      "source": [
        "#Example 2\n",
        "num = float(input(\"enter number: \"))\n",
        "if num<0:\n",
        "  print(\"NEGATIVE\")\n",
        "elif num==0:\n",
        "  print(\"ZERO\")\n",
        "else:\n",
        "  print(\"POSITIVE\")"
      ],
      "execution_count": 21,
      "outputs": [
        {
          "output_type": "stream",
          "name": "stdout",
          "text": [
            "enter number: 0\n",
            "ZERO\n"
          ]
        }
      ]
    },
    {
      "cell_type": "code",
      "metadata": {
        "colab": {
          "base_uri": "https://localhost:8080/"
        },
        "id": "L9abx3axPvPc",
        "outputId": "3482aa9c-37a1-46c1-fcde-d981e1f4f004"
      },
      "source": [
        "#Example 3\n",
        "Grade = float(input(\"enter grade: \"))\n",
        "if Grade>=75:\n",
        "  print(\"Passed\")\n",
        "elif Grade>=74:\n",
        "  print(\"Remedial\")\n",
        "else:\n",
        "  print(\"Failed\")"
      ],
      "execution_count": 34,
      "outputs": [
        {
          "output_type": "stream",
          "name": "stdout",
          "text": [
            "enter grade: 74.99\n",
            "Remedial\n"
          ]
        }
      ]
    }
  ]
}